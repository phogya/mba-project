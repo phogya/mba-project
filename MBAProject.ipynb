{
 "cells": [
  {
   "cell_type": "code",
   "execution_count": 1,
   "id": "60e0e9b1-ea3c-4f43-af50-b76184beffe4",
   "metadata": {},
   "outputs": [],
   "source": [
    "import pandas as pd\n",
    "from scipy import stats\n",
    "import statsmodels.api as sm"
   ]
  },
  {
   "cell_type": "code",
   "execution_count": 2,
   "id": "91d866c5-9db5-4199-a4f1-4f8253821b7b",
   "metadata": {},
   "outputs": [
    {
     "name": "stdout",
     "output_type": "stream",
     "text": [
      "Successfully read the file using latin1 encoding.\n"
     ]
    }
   ],
   "source": [
    "file_path = \"cancerdeaths.csv\"\n",
    "\n",
    "encodings = [\"latin1\", \"ISO-8859-1\", \"cp1252\"]\n",
    "for encoding in encodings:\n",
    "    try:\n",
    "        df = pd.read_csv(file_path, encoding=encoding)\n",
    "        print(f\"Successfully read the file using {encoding} encoding.\")\n",
    "        break\n",
    "    except UnicodeDecodeError:\n",
    "        continue"
   ]
  },
  {
   "cell_type": "code",
   "execution_count": 3,
   "id": "f05f60bb-3190-4bee-9ec6-3388cece33f1",
   "metadata": {},
   "outputs": [
    {
     "data": {
      "text/html": [
       "<div>\n",
       "<style scoped>\n",
       "    .dataframe tbody tr th:only-of-type {\n",
       "        vertical-align: middle;\n",
       "    }\n",
       "\n",
       "    .dataframe tbody tr th {\n",
       "        vertical-align: top;\n",
       "    }\n",
       "\n",
       "    .dataframe thead th {\n",
       "        text-align: right;\n",
       "    }\n",
       "</style>\n",
       "<table border=\"1\" class=\"dataframe\">\n",
       "  <thead>\n",
       "    <tr style=\"text-align: right;\">\n",
       "      <th></th>\n",
       "      <th>zipCode</th>\n",
       "      <th>countyCode</th>\n",
       "      <th>studyCount</th>\n",
       "      <th>State</th>\n",
       "      <th>PovertyEst</th>\n",
       "      <th>povertyPercent</th>\n",
       "      <th>medIncome</th>\n",
       "      <th>Name</th>\n",
       "      <th>popEst2015</th>\n",
       "      <th>County</th>\n",
       "      <th>incidenceRate</th>\n",
       "      <th>avgAnnCount</th>\n",
       "      <th>recentTrend</th>\n",
       "      <th>fiveYearTrend</th>\n",
       "      <th>countyName</th>\n",
       "      <th>deathRate</th>\n",
       "      <th>avgDeathsPerYear</th>\n",
       "      <th>recTrend</th>\n",
       "    </tr>\n",
       "  </thead>\n",
       "  <tbody>\n",
       "    <tr>\n",
       "      <th>0</th>\n",
       "      <td>1001</td>\n",
       "      <td>25013</td>\n",
       "      <td>0</td>\n",
       "      <td>MA</td>\n",
       "      <td>80178</td>\n",
       "      <td>17.7</td>\n",
       "      <td>49072</td>\n",
       "      <td>Hampden County</td>\n",
       "      <td>470690</td>\n",
       "      <td>Hampden County, Massachusetts(6,10)</td>\n",
       "      <td>442.9</td>\n",
       "      <td>2371.0</td>\n",
       "      <td>stable</td>\n",
       "      <td>-2.4</td>\n",
       "      <td>Hampden County, Massachusetts</td>\n",
       "      <td>180.0</td>\n",
       "      <td>1004</td>\n",
       "      <td>falling</td>\n",
       "    </tr>\n",
       "    <tr>\n",
       "      <th>1</th>\n",
       "      <td>1008</td>\n",
       "      <td>25013</td>\n",
       "      <td>0</td>\n",
       "      <td>MA</td>\n",
       "      <td>80178</td>\n",
       "      <td>17.7</td>\n",
       "      <td>49072</td>\n",
       "      <td>Hampden County</td>\n",
       "      <td>470690</td>\n",
       "      <td>Hampden County, Massachusetts(6,10)</td>\n",
       "      <td>442.9</td>\n",
       "      <td>2371.0</td>\n",
       "      <td>stable</td>\n",
       "      <td>-2.4</td>\n",
       "      <td>Hampden County, Massachusetts</td>\n",
       "      <td>180.0</td>\n",
       "      <td>1004</td>\n",
       "      <td>falling</td>\n",
       "    </tr>\n",
       "    <tr>\n",
       "      <th>2</th>\n",
       "      <td>1009</td>\n",
       "      <td>25013</td>\n",
       "      <td>3</td>\n",
       "      <td>MA</td>\n",
       "      <td>80178</td>\n",
       "      <td>17.7</td>\n",
       "      <td>49072</td>\n",
       "      <td>Hampden County</td>\n",
       "      <td>470690</td>\n",
       "      <td>Hampden County, Massachusetts(6,10)</td>\n",
       "      <td>442.9</td>\n",
       "      <td>2371.0</td>\n",
       "      <td>stable</td>\n",
       "      <td>-2.4</td>\n",
       "      <td>Hampden County, Massachusetts</td>\n",
       "      <td>180.0</td>\n",
       "      <td>1004</td>\n",
       "      <td>falling</td>\n",
       "    </tr>\n",
       "    <tr>\n",
       "      <th>3</th>\n",
       "      <td>1010</td>\n",
       "      <td>25013</td>\n",
       "      <td>6</td>\n",
       "      <td>MA</td>\n",
       "      <td>80178</td>\n",
       "      <td>17.7</td>\n",
       "      <td>49072</td>\n",
       "      <td>Hampden County</td>\n",
       "      <td>470690</td>\n",
       "      <td>Hampden County, Massachusetts(6,10)</td>\n",
       "      <td>442.9</td>\n",
       "      <td>2371.0</td>\n",
       "      <td>stable</td>\n",
       "      <td>-2.4</td>\n",
       "      <td>Hampden County, Massachusetts</td>\n",
       "      <td>180.0</td>\n",
       "      <td>1004</td>\n",
       "      <td>falling</td>\n",
       "    </tr>\n",
       "    <tr>\n",
       "      <th>4</th>\n",
       "      <td>1011</td>\n",
       "      <td>25013</td>\n",
       "      <td>0</td>\n",
       "      <td>MA</td>\n",
       "      <td>80178</td>\n",
       "      <td>17.7</td>\n",
       "      <td>49072</td>\n",
       "      <td>Hampden County</td>\n",
       "      <td>470690</td>\n",
       "      <td>Hampden County, Massachusetts(6,10)</td>\n",
       "      <td>442.9</td>\n",
       "      <td>2371.0</td>\n",
       "      <td>stable</td>\n",
       "      <td>-2.4</td>\n",
       "      <td>Hampden County, Massachusetts</td>\n",
       "      <td>180.0</td>\n",
       "      <td>1004</td>\n",
       "      <td>falling</td>\n",
       "    </tr>\n",
       "  </tbody>\n",
       "</table>\n",
       "</div>"
      ],
      "text/plain": [
       "   zipCode  countyCode  studyCount State  PovertyEst  povertyPercent  \\\n",
       "0     1001       25013           0    MA       80178            17.7   \n",
       "1     1008       25013           0    MA       80178            17.7   \n",
       "2     1009       25013           3    MA       80178            17.7   \n",
       "3     1010       25013           6    MA       80178            17.7   \n",
       "4     1011       25013           0    MA       80178            17.7   \n",
       "\n",
       "   medIncome            Name  popEst2015                               County  \\\n",
       "0      49072  Hampden County      470690  Hampden County, Massachusetts(6,10)   \n",
       "1      49072  Hampden County      470690  Hampden County, Massachusetts(6,10)   \n",
       "2      49072  Hampden County      470690  Hampden County, Massachusetts(6,10)   \n",
       "3      49072  Hampden County      470690  Hampden County, Massachusetts(6,10)   \n",
       "4      49072  Hampden County      470690  Hampden County, Massachusetts(6,10)   \n",
       "\n",
       "   incidenceRate  avgAnnCount recentTrend fiveYearTrend  \\\n",
       "0          442.9       2371.0      stable          -2.4   \n",
       "1          442.9       2371.0      stable          -2.4   \n",
       "2          442.9       2371.0      stable          -2.4   \n",
       "3          442.9       2371.0      stable          -2.4   \n",
       "4          442.9       2371.0      stable          -2.4   \n",
       "\n",
       "                      countyName  deathRate  avgDeathsPerYear recTrend  \n",
       "0  Hampden County, Massachusetts      180.0              1004  falling  \n",
       "1  Hampden County, Massachusetts      180.0              1004  falling  \n",
       "2  Hampden County, Massachusetts      180.0              1004  falling  \n",
       "3  Hampden County, Massachusetts      180.0              1004  falling  \n",
       "4  Hampden County, Massachusetts      180.0              1004  falling  "
      ]
     },
     "execution_count": 3,
     "metadata": {},
     "output_type": "execute_result"
    }
   ],
   "source": [
    "df.head()"
   ]
  },
  {
   "cell_type": "code",
   "execution_count": 4,
   "id": "c1219a48-2e4c-4d44-8edb-8c38c689d3cb",
   "metadata": {},
   "outputs": [
    {
     "data": {
      "text/plain": [
       "0         Low\n",
       "1         Low\n",
       "2        High\n",
       "3        High\n",
       "4         Low\n",
       "         ... \n",
       "32546     Low\n",
       "32547     Low\n",
       "32548     Low\n",
       "32549     Low\n",
       "32550     Low\n",
       "Name: studyCountCategory, Length: 32551, dtype: object"
      ]
     },
     "execution_count": 4,
     "metadata": {},
     "output_type": "execute_result"
    }
   ],
   "source": [
    "study_count_mean = df[\"studyCount\"].mean()\n",
    "df[\"studyCountCategory\"] = df[\"studyCount\"].apply(lambda x: \"High\" if x >= study_count_mean else \"Low\")\n",
    "df[\"studyCountCategory\"]"
   ]
  },
  {
   "cell_type": "code",
   "execution_count": 5,
   "id": "b2303d8e-93d1-40f6-adc2-eda4ef013cb1",
   "metadata": {},
   "outputs": [
    {
     "data": {
      "text/plain": [
       "0             High\n",
       "1             High\n",
       "2             High\n",
       "3             High\n",
       "4             High\n",
       "           ...    \n",
       "32546    Very High\n",
       "32547    Very High\n",
       "32548    Very High\n",
       "32549    Very High\n",
       "32550    Very High\n",
       "Name: incomeCategory, Length: 32551, dtype: object"
      ]
     },
     "execution_count": 5,
     "metadata": {},
     "output_type": "execute_result"
    }
   ],
   "source": [
    "income_quartiles = df[\"medIncome\"].quantile([0.25, 0.5, 0.75]).values\n",
    "def categorize_income(income):\n",
    "    if income <= income_quartiles[0]:\n",
    "        return \"Very Low\"\n",
    "    elif income <= income_quartiles[1]:\n",
    "        return \"Low\"\n",
    "    elif income <= income_quartiles[2]:\n",
    "        return \"High\"\n",
    "    else:\n",
    "        return \"Very High\"\n",
    "df[\"incomeCategory\"] = df[\"medIncome\"].apply(categorize_income)\n",
    "df[\"incomeCategory\"]"
   ]
  },
  {
   "cell_type": "code",
   "execution_count": 6,
   "id": "c44da71d-3b9d-4d8d-92e6-08a1dfd4a638",
   "metadata": {},
   "outputs": [
    {
     "name": "stdout",
     "output_type": "stream",
     "text": [
      "zipCode               0\n",
      "countyCode            0\n",
      "studyCount            0\n",
      "State                 0\n",
      "PovertyEst            0\n",
      "povertyPercent        0\n",
      "medIncome             0\n",
      "Name                  0\n",
      "popEst2015            0\n",
      "County                0\n",
      "incidenceRate         0\n",
      "avgAnnCount           0\n",
      "recentTrend           0\n",
      "fiveYearTrend         0\n",
      "countyName            0\n",
      "deathRate             0\n",
      "avgDeathsPerYear      0\n",
      "recTrend              0\n",
      "studyCountCategory    0\n",
      "incomeCategory        0\n",
      "dtype: int64\n"
     ]
    }
   ],
   "source": [
    "missing_values = df.isnull().sum()\n",
    "print(missing_values)"
   ]
  },
  {
   "cell_type": "code",
   "execution_count": 7,
   "id": "268d288c-1531-4c4f-add2-13fddad62663",
   "metadata": {},
   "outputs": [
    {
     "name": "stdout",
     "output_type": "stream",
     "text": [
      "Recent Trend Test: t = 11.57445905827237 , p = 7.8641394163962865e-31\n"
     ]
    }
   ],
   "source": [
    "stable_group = df[df[\"recentTrend\"] == \"stable\"][\"incidenceRate\"]\n",
    "falling_group = df[df[\"recentTrend\"] == \"falling\"][\"incidenceRate\"]\n",
    "t_stat_trend, p_value_trend = stats.ttest_ind(stable_group, falling_group, equal_var=False)\n",
    "print(\"Recent Trend Test: t =\", t_stat_trend, \", p =\", p_value_trend)"
   ]
  },
  {
   "cell_type": "code",
   "execution_count": 8,
   "id": "68934b61-6182-4522-92ff-91b2f84afb77",
   "metadata": {},
   "outputs": [
    {
     "name": "stdout",
     "output_type": "stream",
     "text": [
      "Study Count Test: t = 5.594284049628392 , p = 2.4232514253449797e-08\n"
     ]
    }
   ],
   "source": [
    "high_study_group = df[df[\"studyCountCategory\"] == \"High\"][\"incidenceRate\"]\n",
    "low_study_group = df[df[\"studyCountCategory\"] == \"Low\"][\"incidenceRate\"]\n",
    "t_stat_study, p_value_study = stats.ttest_ind(high_study_group, low_study_group, equal_var=False)\n",
    "print(\"Study Count Test: t =\", t_stat_study, \", p =\", p_value_study)"
   ]
  },
  {
   "cell_type": "code",
   "execution_count": 9,
   "id": "ee8c7fb0-5434-49d0-9a97-24343a607935",
   "metadata": {},
   "outputs": [
    {
     "name": "stdout",
     "output_type": "stream",
     "text": [
      "Income ANOVA Test: F = 23.68649563799639 , p = 2.6285925112194223e-15\n"
     ]
    }
   ],
   "source": [
    "anova_stat_income, p_value_income = stats.f_oneway(\n",
    "    df[df[\"incomeCategory\"] == \"Very Low\"][\"incidenceRate\"],\n",
    "    df[df[\"incomeCategory\"] == \"Low\"][\"incidenceRate\"],\n",
    "    df[df[\"incomeCategory\"] == \"High\"][\"incidenceRate\"],\n",
    "    df[df[\"incomeCategory\"] == \"Very High\"][\"incidenceRate\"]\n",
    ")\n",
    "print(\"Income ANOVA Test: F =\", anova_stat_income, \", p =\", p_value_income)"
   ]
  },
  {
   "cell_type": "code",
   "execution_count": 10,
   "id": "5437224e-80ab-4505-9e92-705e3229a2b7",
   "metadata": {},
   "outputs": [
    {
     "name": "stdout",
     "output_type": "stream",
     "text": [
      "                            OLS Regression Results                            \n",
      "==============================================================================\n",
      "Dep. Variable:          incidenceRate   R-squared:                       0.013\n",
      "Model:                            OLS   Adj. R-squared:                  0.013\n",
      "Method:                 Least Squares   F-statistic:                     107.5\n",
      "Date:                Thu, 27 Feb 2025   Prob (F-statistic):           3.46e-91\n",
      "Time:                        09:07:08   Log-Likelihood:            -1.7122e+05\n",
      "No. Observations:               32551   AIC:                         3.425e+05\n",
      "Df Residuals:                   32546   BIC:                         3.425e+05\n",
      "Df Model:                           4                                         \n",
      "Covariance Type:            nonrobust                                         \n",
      "==================================================================================\n",
      "                     coef    std err          t      P>|t|      [0.025      0.975]\n",
      "----------------------------------------------------------------------------------\n",
      "const            454.9549      2.548    178.534      0.000     449.960     459.950\n",
      "medIncome          0.0001    3.1e-05      3.726      0.000    5.47e-05       0.000\n",
      "povertyPercent    -0.3639      0.071     -5.096      0.000      -0.504      -0.224\n",
      "studyCount         0.0624      0.013      4.731      0.000       0.037       0.088\n",
      "popEst2015     -3.712e-06   2.36e-07    -15.755      0.000   -4.17e-06   -3.25e-06\n",
      "==============================================================================\n",
      "Omnibus:                     5164.212   Durbin-Watson:                   0.171\n",
      "Prob(Omnibus):                  0.000   Jarque-Bera (JB):            93441.194\n",
      "Skew:                          -0.135   Prob(JB):                         0.00\n",
      "Kurtosis:                      11.296   Cond. No.                     1.22e+07\n",
      "==============================================================================\n",
      "\n",
      "Notes:\n",
      "[1] Standard Errors assume that the covariance matrix of the errors is correctly specified.\n",
      "[2] The condition number is large, 1.22e+07. This might indicate that there are\n",
      "strong multicollinearity or other numerical problems.\n"
     ]
    }
   ],
   "source": [
    "X = df[['medIncome', 'povertyPercent', 'studyCount', 'popEst2015']]\n",
    "y = df['incidenceRate']\n",
    "X = sm.add_constant(X)\n",
    "model = sm.OLS(y, X).fit()\n",
    "print(model.summary())"
   ]
  },
  {
   "cell_type": "code",
   "execution_count": null,
   "id": "1829a123-3c8d-4fb9-a672-738b1c3df73f",
   "metadata": {},
   "outputs": [],
   "source": []
  }
 ],
 "metadata": {
  "kernelspec": {
   "display_name": "Python 3 (ipykernel)",
   "language": "python",
   "name": "python3"
  },
  "language_info": {
   "codemirror_mode": {
    "name": "ipython",
    "version": 3
   },
   "file_extension": ".py",
   "mimetype": "text/x-python",
   "name": "python",
   "nbconvert_exporter": "python",
   "pygments_lexer": "ipython3",
   "version": "3.12.3"
  }
 },
 "nbformat": 4,
 "nbformat_minor": 5
}
